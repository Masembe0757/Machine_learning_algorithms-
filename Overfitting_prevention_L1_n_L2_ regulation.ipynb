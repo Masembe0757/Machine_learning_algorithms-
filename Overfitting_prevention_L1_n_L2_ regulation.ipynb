{
 "cells": [
  {
   "cell_type": "code",
   "execution_count": null,
   "id": "d65a8b1d-a88d-4710-822b-d0811812765f",
   "metadata": {},
   "outputs": [],
   "source": [
    "L1 regularisation is lasso regression\n",
    "L2 regularisation is Ridge regression"
   ]
  }
 ],
 "metadata": {
  "kernelspec": {
   "display_name": "Python 3 (ipykernel)",
   "language": "python",
   "name": "python3"
  },
  "language_info": {
   "codemirror_mode": {
    "name": "ipython",
    "version": 3
   },
   "file_extension": ".py",
   "mimetype": "text/x-python",
   "name": "python",
   "nbconvert_exporter": "python",
   "pygments_lexer": "ipython3",
   "version": "3.10.12"
  }
 },
 "nbformat": 4,
 "nbformat_minor": 5
}
