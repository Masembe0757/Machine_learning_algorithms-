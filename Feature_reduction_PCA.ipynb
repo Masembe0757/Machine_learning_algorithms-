{
 "cells": [
  {
   "cell_type": "raw",
   "id": "086019a1-6b93-4dd3-a742-834ff7f139e3",
   "metadata": {},
   "source": [
    "Principle component analysis is the process of finding out features that have a high impact/influence on the target variable\n",
    "It is one of the dimensionality reduction techniques"
   ]
  },
  {
   "cell_type": "code",
   "execution_count": null,
   "id": "7ac67e84-6833-442d-806f-86c30bbbe647",
   "metadata": {},
   "outputs": [],
   "source": []
  }
 ],
 "metadata": {
  "kernelspec": {
   "display_name": "Python 3 (ipykernel)",
   "language": "python",
   "name": "python3"
  },
  "language_info": {
   "codemirror_mode": {
    "name": "ipython",
    "version": 3
   },
   "file_extension": ".py",
   "mimetype": "text/x-python",
   "name": "python",
   "nbconvert_exporter": "python",
   "pygments_lexer": "ipython3",
   "version": "3.10.12"
  }
 },
 "nbformat": 4,
 "nbformat_minor": 5
}
